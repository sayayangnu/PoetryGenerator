{
 "cells": [
  {
   "cell_type": "code",
   "execution_count": 1,
   "metadata": {},
   "outputs": [
    {
     "name": "stderr",
     "output_type": "stream",
     "text": [
      "/Users/chenlimin/anaconda3/lib/python3.6/site-packages/h5py/__init__.py:36: FutureWarning: Conversion of the second argument of issubdtype from `float` to `np.floating` is deprecated. In future, it will be treated as `np.float64 == np.dtype(float).type`.\n",
      "  from ._conv import register_converters as _register_converters\n"
     ]
    }
   ],
   "source": [
    "import pandas as pd\n",
    "import re\n",
    "import requests\n",
    "from bs4 import BeautifulSoup\n",
    "from tensorflow.keras.preprocessing.text import Tokenizer\n",
    "from tensorflow.keras.preprocessing.sequence import pad_sequences\n",
    "from tensorflow import keras\n",
    "from tensorflow import keras\n",
    "from tensorflow.keras.layers import *\n",
    "import tensorflow as tf\n",
    "import numpy as np"
   ]
  },
  {
   "cell_type": "code",
   "execution_count": 2,
   "metadata": {},
   "outputs": [],
   "source": [
    "from tensorflow.keras.models import model_from_json"
   ]
  },
  {
   "cell_type": "code",
   "execution_count": 3,
   "metadata": {},
   "outputs": [],
   "source": [
    "# This function slices the unwanted text (introduction, etc.) at the beginning of the txt file \n",
    "# It takes a string 'my_str', and delete everything before the specified 'sub' \n",
    "def slicer_front(my_str,sub):\n",
    "  index=my_str.find(sub)\n",
    "  if index !=-1 :\n",
    "        return my_str[index:] \n",
    "  else :\n",
    "        raise Exception('Sub string not found!')"
   ]
  },
  {
   "cell_type": "code",
   "execution_count": 4,
   "metadata": {},
   "outputs": [],
   "source": [
    "# This function slices the unwanted text (introduction, etc.) at the end of the txt file \n",
    "def slicer_back(my_str,sub):\n",
    "  index=my_str.find(sub)\n",
    "  if index !=-1 :\n",
    "        return my_str[:index] \n",
    "  else :\n",
    "        raise Exception('Sub string not found!')"
   ]
  },
  {
   "cell_type": "code",
   "execution_count": 5,
   "metadata": {},
   "outputs": [],
   "source": [
    "# writ a function to read in data from a url \n",
    "def get_soup(target_url):\n",
    "    r = requests.get(target_url)\n",
    "    soup = BeautifulSoup(r.text, \"html.parser\")\n",
    "    return soup"
   ]
  },
  {
   "cell_type": "code",
   "execution_count": 6,
   "metadata": {},
   "outputs": [
    {
     "data": {
      "text/plain": [
       "1991"
      ]
     },
     "execution_count": 6,
     "metadata": {},
     "output_type": "execute_result"
    }
   ],
   "source": [
    "DJ = get_soup('http://www.gutenberg.org/cache/epub/21700/pg21700.txt')\n",
    "# Clean preface, conclusion and titles\n",
    "DJ_txt = slicer_back(slicer_front(DJ.get_text(),'I want a hero: an uncommon want,'),'End of the Project Gutenberg EBook') # Delete the preface and conclusion\n",
    "DJ = DJ_txt.split('\\r\\n\\r\\n')\n",
    "DJ_c = [i for i in DJ if len(i)> 50 and len(i)<500]\n",
    "len(DJ_c)"
   ]
  },
  {
   "cell_type": "code",
   "execution_count": 7,
   "metadata": {},
   "outputs": [
    {
     "data": {
      "text/plain": [
       "851"
      ]
     },
     "execution_count": 7,
     "metadata": {},
     "output_type": "execute_result"
    }
   ],
   "source": [
    "JRL = get_soup('http://www.gutenberg.org/files/38520/38520-0.txt')\n",
    "# Clean preface, conclusion and titles\n",
    "JRL_txt = slicer_back(slicer_front(JRL.get_text(),'If some small savor creep into my rhyme'),'But is lord of the earldom as much as he.') # Delete the preface and conclusion\n",
    "# the titles are all capitalized, get rid of capitalized words\n",
    "JRL_txt = re.sub('[A-Z \\d\\W]+\\r\\n\\r\\n','\\r\\n\\r\\n\\r\\n\\r\\n\\r\\n',JRL_txt) # Clean the titles\n",
    "JRL_txt = re.sub('[1-9]\\d*\\.','',JRL_txt) # Clean the numbers\n",
    "# split the text into each poem\n",
    "JRL = JRL_txt.split('\\r\\n\\r\\n\\r\\n\\r\\n\\r\\n')\n",
    "JRL_c = [i for i in JRL if len(i)>50 and len(i)<500]\n",
    "len(JRL_c)"
   ]
  },
  {
   "cell_type": "code",
   "execution_count": 8,
   "metadata": {},
   "outputs": [
    {
     "data": {
      "text/plain": [
       "1427"
      ]
     },
     "execution_count": 8,
     "metadata": {},
     "output_type": "execute_result"
    }
   ],
   "source": [
    "CGR = get_soup('http://www.gutenberg.org/cache/epub/19188/pg19188.txt')\n",
    "# Clean preface, conclusion and titles\n",
    "CGR_txt = slicer_back(slicer_front(CGR.get_text(),'Morning and evening'),'We trust to Thee.') # Delete the preface and conclusion\n",
    "\n",
    "# Some of the titles are capitalized, some of the titles are numbers. \n",
    "# Get rid of capitalized words and numbers\n",
    "CGR_txt = re.sub('[A-Z \\d\\W]+\\r\\n\\r\\n','\\r\\n\\r\\n\\r\\n\\r\\n\\r\\n',CGR_txt) # Clean the titles\n",
    "CGR_txt = re.sub('[1-9]\\d*\\.','\\r\\n\\r\\n\\r\\n\\r\\n\\r\\n',CGR_txt) # Clean the numbers\n",
    "# split the text into each poem\n",
    "CGR = CGR_txt.split('\\r\\n\\r\\n\\r\\n\\r\\n\\r\\n')\n",
    "CGR_c = [i for i in CGR if len(i)>50 and len(i)<500]\n",
    "len(CGR_c)"
   ]
  },
  {
   "cell_type": "code",
   "execution_count": 9,
   "metadata": {},
   "outputs": [
    {
     "data": {
      "text/plain": [
       "4269"
      ]
     },
     "execution_count": 9,
     "metadata": {},
     "output_type": "execute_result"
    }
   ],
   "source": [
    "corpus = JRL_c+DJ_c+CGR_c\n",
    "len(corpus)"
   ]
  },
  {
   "cell_type": "code",
   "execution_count": null,
   "metadata": {},
   "outputs": [],
   "source": [
    "tokenizer = Tokenizer()\n",
    "tokenizer.fit_on_texts(corpus)\n",
    "total_words = len( tokenizer.word_index ) + 1\n",
    "total_words"
   ]
  },
  {
   "cell_type": "code",
   "execution_count": 18,
   "metadata": {},
   "outputs": [],
   "source": [
    "input_sequences = []\n",
    "\n",
    "for line in corpus:\n",
    "    token_list = tokenizer.texts_to_sequences([line])[0]\n",
    "    for i in range(1, len(token_list)):\n",
    "        n_gram_sequence = token_list[:i + 1]\n",
    "        input_sequences.append(n_gram_sequence)"
   ]
  },
  {
   "cell_type": "code",
   "execution_count": 19,
   "metadata": {},
   "outputs": [
    {
     "data": {
      "text/plain": [
       "103"
      ]
     },
     "execution_count": 19,
     "metadata": {},
     "output_type": "execute_result"
    }
   ],
   "source": [
    "sequence_lengths = list()\n",
    "for x in input_sequences:\n",
    "    sequence_lengths.append( len( x ) )\n",
    "max_sequence_len = max( sequence_lengths )\n",
    "max_sequence_len"
   ]
  },
  {
   "cell_type": "code",
   "execution_count": 20,
   "metadata": {},
   "outputs": [],
   "source": [
    "input_sequences = np.array(pad_sequences(input_sequences,\n",
    "                                         maxlen=max_sequence_len+1, padding='pre'))\n",
    "x, y = input_sequences[:, :-1], input_sequences[:, -1]\n",
    "y = keras.utils.to_categorical(y, num_classes=total_words)"
   ]
  },
  {
   "cell_type": "code",
   "execution_count": 23,
   "metadata": {},
   "outputs": [
    {
     "name": "stdout",
     "output_type": "stream",
     "text": [
      "Loaded model from disk\n"
     ]
    }
   ],
   "source": [
    "# Load Model\n",
    "from tensorflow.keras.models import model_from_json\n",
    "# load json and create model\n",
    "json_file = open('2_TY_1Layer_4629_LongerCorp.json', 'r')\n",
    "loaded_model_json = json_file.read()\n",
    "json_file.close()\n",
    "loaded_model =  keras.models.model_from_json(loaded_model_json)\n",
    "# load weights into new model\n",
    "loaded_model.load_weights(\"2_TY_1Layer_4629_LongerCorp.h5\")\n",
    "print(\"Loaded model from disk\")"
   ]
  },
  {
   "cell_type": "code",
   "execution_count": 24,
   "metadata": {},
   "outputs": [],
   "source": [
    "from tensorflow.keras.callbacks import ModelCheckpoint\n",
    "checkpoint = [ModelCheckpoint(filepath='2_TY_1Layer_LongCorp.hdf5',period=5)]"
   ]
  },
  {
   "cell_type": "code",
   "execution_count": 28,
   "metadata": {},
   "outputs": [],
   "source": [
    "loaded_model.compile(\n",
    "    optimizer=keras.optimizers.Adam() ,\n",
    "    loss=keras.losses.categorical_crossentropy ,\n",
    "    metrics=[ 'accuracy' ]\n",
    ")"
   ]
  },
  {
   "cell_type": "code",
   "execution_count": 29,
   "metadata": {},
   "outputs": [
    {
     "name": "stdout",
     "output_type": "stream",
     "text": [
      "Epoch 1/30\n",
      "224522/224522 [==============================] - 805s 4ms/sample - loss: 5.4033 - acc: 0.1963\n",
      "Epoch 2/30\n",
      "224522/224522 [==============================] - 799s 4ms/sample - loss: 5.3360 - acc: 0.1996\n",
      "Epoch 3/30\n",
      "224522/224522 [==============================] - 801s 4ms/sample - loss: 5.2875 - acc: 0.2026\n",
      "Epoch 4/30\n",
      "224522/224522 [==============================] - 790s 4ms/sample - loss: 5.2471 - acc: 0.2051\n",
      "Epoch 5/30\n",
      "224522/224522 [==============================] - 800s 4ms/sample - loss: 5.2075 - acc: 0.2078\n",
      "Epoch 6/30\n",
      "224522/224522 [==============================] - 795s 4ms/sample - loss: 5.1725 - acc: 0.2105\n",
      "Epoch 7/30\n",
      "224522/224522 [==============================] - 800s 4ms/sample - loss: 5.1418 - acc: 0.2127\n",
      "Epoch 8/30\n",
      "224522/224522 [==============================] - 800s 4ms/sample - loss: 5.1189 - acc: 0.2145\n",
      "Epoch 9/30\n",
      "224522/224522 [==============================] - 800s 4ms/sample - loss: 5.0923 - acc: 0.2175\n",
      "Epoch 10/30\n",
      "224522/224522 [==============================] - 801s 4ms/sample - loss: 5.0698 - acc: 0.2186\n",
      "Epoch 11/30\n",
      "224522/224522 [==============================] - 790s 4ms/sample - loss: 5.0461 - acc: 0.2209\n",
      "Epoch 12/30\n",
      "224522/224522 [==============================] - 799s 4ms/sample - loss: 5.0244 - acc: 0.2227\n",
      "Epoch 13/30\n",
      "224522/224522 [==============================] - 800s 4ms/sample - loss: 5.0077 - acc: 0.2243\n",
      "Epoch 14/30\n",
      "224522/224522 [==============================] - 801s 4ms/sample - loss: 4.9898 - acc: 0.2265\n",
      "Epoch 15/30\n",
      "224522/224522 [==============================] - 795s 4ms/sample - loss: 4.9803 - acc: 0.2278\n",
      "Epoch 16/30\n",
      "224522/224522 [==============================] - 800s 4ms/sample - loss: 4.9588 - acc: 0.2301\n",
      "Epoch 17/30\n",
      "224522/224522 [==============================] - 801s 4ms/sample - loss: 4.9463 - acc: 0.2311\n",
      "Epoch 18/30\n",
      "224522/224522 [==============================] - 799s 4ms/sample - loss: 4.9339 - acc: 0.2327\n",
      "Epoch 19/30\n",
      "224522/224522 [==============================] - 800s 4ms/sample - loss: 4.9251 - acc: 0.2333\n",
      "Epoch 20/30\n",
      "224522/224522 [==============================] - 800s 4ms/sample - loss: 4.9150 - acc: 0.2345\n",
      "Epoch 21/30\n",
      "224522/224522 [==============================] - 802s 4ms/sample - loss: 4.8986 - acc: 0.2353\n",
      "Epoch 22/30\n",
      "224522/224522 [==============================] - 800s 4ms/sample - loss: 4.8920 - acc: 0.2380\n",
      "Epoch 23/30\n",
      "224522/224522 [==============================] - 802s 4ms/sample - loss: 4.8816 - acc: 0.2385\n",
      "Epoch 24/30\n",
      "224522/224522 [==============================] - 802s 4ms/sample - loss: 4.8758 - acc: 0.2398\n",
      "Epoch 25/30\n",
      "224522/224522 [==============================] - 798s 4ms/sample - loss: 4.8654 - acc: 0.2404\n",
      "Epoch 26/30\n",
      "224522/224522 [==============================] - 800s 4ms/sample - loss: 4.8552 - acc: 0.2426\n",
      "Epoch 27/30\n",
      "224522/224522 [==============================] - 799s 4ms/sample - loss: 4.8474 - acc: 0.2438\n",
      "Epoch 28/30\n",
      "224522/224522 [==============================] - 800s 4ms/sample - loss: 4.8387 - acc: 0.2444\n",
      "Epoch 29/30\n",
      "224522/224522 [==============================] - 797s 4ms/sample - loss: 4.8358 - acc: 0.2447\n",
      "Epoch 30/30\n",
      "224522/224522 [==============================] - 801s 4ms/sample - loss: 4.8316 - acc: 0.2464\n"
     ]
    }
   ],
   "source": [
    "history = loaded_model.fit(\n",
    "    x,\n",
    "    y,\n",
    "    batch_size=32 ,\n",
    "    epochs=30,\n",
    "    callbacks=checkpoint\n",
    ")"
   ]
  },
  {
   "cell_type": "code",
   "execution_count": 31,
   "metadata": {},
   "outputs": [
    {
     "name": "stdout",
     "output_type": "stream",
     "text": [
      "Saved model to disk\n"
     ]
    }
   ],
   "source": [
    "# save model\n",
    "model_json = loaded_model.to_json()\n",
    "with open(\"2_TY_1Layer_4629_LongerCorp_Continue.json\", \"w\") as json_file:\n",
    "    json_file.write(model_json)\n",
    "# serialize weights to HDF5\n",
    "loaded_model.save_weights(\"2_TY_1Layer_4629_LongerCorp_Continue.h5\")\n",
    "print(\"Saved model to disk\")"
   ]
  },
  {
   "cell_type": "code",
   "execution_count": 32,
   "metadata": {},
   "outputs": [],
   "source": [
    "# Save Accuracy\n",
    "result = pd.DataFrame({'accuracy':history.history['acc'],'loss':history.history['loss']})\n",
    "result.to_csv(r'2_TY_1Layer_4629_LongerCorp_Accuracy.csv')"
   ]
  },
  {
   "cell_type": "code",
   "execution_count": 35,
   "metadata": {},
   "outputs": [
    {
     "name": "stdout",
     "output_type": "stream",
     "text": [
      "Enter some starter text ( I want ... ) : The men\n",
      "Enter the desired length of the generated sentence : 8\n",
      "The men was not a sort of course in vain\n"
     ]
    }
   ],
   "source": [
    "def predict(seed_text , seed=10 ):\n",
    "\n",
    "    for i in range( seed ):\n",
    "\n",
    "        token_list = tokenizer.texts_to_sequences([seed_text])[0]\n",
    "        token_list = pad_sequences([token_list], maxlen=\n",
    "        max_sequence_len , padding='pre')\n",
    "        predicted = loaded_model.predict_classes(token_list, verbose=0 )\n",
    "        output_word = \"\"\n",
    "        for word, index in tokenizer.word_index.items():\n",
    "            if index == predicted:\n",
    "                output_word = word\n",
    "                break\n",
    "        seed_text += \" \" + output_word\n",
    "\n",
    "    return seed_text\n",
    "\n",
    "print( \n",
    "  predict( \n",
    "    input( 'Enter some starter text ( I want ... ) : ') , \n",
    "    int( input( 'Enter the desired length of the generated sentence : '))  \n",
    "  ) \n",
    ")"
   ]
  },
  {
   "cell_type": "code",
   "execution_count": null,
   "metadata": {},
   "outputs": [],
   "source": []
  }
 ],
 "metadata": {
  "kernelspec": {
   "display_name": "Python 3",
   "language": "python",
   "name": "python3"
  },
  "language_info": {
   "codemirror_mode": {
    "name": "ipython",
    "version": 3
   },
   "file_extension": ".py",
   "mimetype": "text/x-python",
   "name": "python",
   "nbconvert_exporter": "python",
   "pygments_lexer": "ipython3",
   "version": "3.6.5"
  }
 },
 "nbformat": 4,
 "nbformat_minor": 2
}
