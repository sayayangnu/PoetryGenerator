{
 "cells": [
  {
   "cell_type": "code",
   "execution_count": 3,
   "metadata": {},
   "outputs": [],
   "source": [
    "import pandas as pd\n",
    "import re\n",
    "import requests\n",
    "from bs4 import BeautifulSoup\n",
    "from tensorflow.keras.preprocessing.text import Tokenizer\n",
    "from tensorflow.keras.preprocessing.sequence import pad_sequences\n",
    "from tensorflow import keras\n",
    "from tensorflow import keras\n",
    "from tensorflow.keras.layers import *\n",
    "import tensorflow as tf\n",
    "import numpy as np"
   ]
  },
  {
   "cell_type": "code",
   "execution_count": 4,
   "metadata": {},
   "outputs": [],
   "source": [
    "from tensorflow.keras.models import model_from_json"
   ]
  },
  {
   "cell_type": "code",
   "execution_count": 5,
   "metadata": {},
   "outputs": [],
   "source": [
    "# This function slices the unwanted text (introduction, etc.) at the beginning of the txt file \n",
    "# It takes a string 'my_str', and delete everything before the specified 'sub' \n",
    "def slicer_front(my_str,sub):\n",
    "  index=my_str.find(sub)\n",
    "  if index !=-1 :\n",
    "        return my_str[index:] \n",
    "  else :\n",
    "        raise Exception('Sub string not found!')"
   ]
  },
  {
   "cell_type": "code",
   "execution_count": 6,
   "metadata": {},
   "outputs": [],
   "source": [
    "# This function slices the unwanted text (introduction, etc.) at the end of the txt file \n",
    "def slicer_back(my_str,sub):\n",
    "  index=my_str.find(sub)\n",
    "  if index !=-1 :\n",
    "        return my_str[:index] \n",
    "  else :\n",
    "        raise Exception('Sub string not found!')"
   ]
  },
  {
   "cell_type": "code",
   "execution_count": 7,
   "metadata": {},
   "outputs": [],
   "source": [
    "# writ a function to read in data from a url \n",
    "def get_soup(target_url):\n",
    "    r = requests.get(target_url)\n",
    "    soup = BeautifulSoup(r.text, \"html.parser\")\n",
    "    return soup"
   ]
  },
  {
   "cell_type": "code",
   "execution_count": 8,
   "metadata": {},
   "outputs": [
    {
     "data": {
      "text/plain": [
       "1991"
      ]
     },
     "execution_count": 8,
     "metadata": {},
     "output_type": "execute_result"
    }
   ],
   "source": [
    "DJ = get_soup('http://www.gutenberg.org/cache/epub/21700/pg21700.txt')\n",
    "# Clean preface, conclusion and titles\n",
    "DJ_txt = slicer_back(slicer_front(DJ.get_text(),'I want a hero: an uncommon want,'),'End of the Project Gutenberg EBook') # Delete the preface and conclusion\n",
    "DJ = DJ_txt.split('\\r\\n\\r\\n')\n",
    "DJ_c = [i for i in DJ if len(i)> 50 and len(i)<500]\n",
    "len(DJ_c)"
   ]
  },
  {
   "cell_type": "code",
   "execution_count": 9,
   "metadata": {},
   "outputs": [
    {
     "data": {
      "text/plain": [
       "851"
      ]
     },
     "execution_count": 9,
     "metadata": {},
     "output_type": "execute_result"
    }
   ],
   "source": [
    "JRL = get_soup('http://www.gutenberg.org/files/38520/38520-0.txt')\n",
    "# Clean preface, conclusion and titles\n",
    "JRL_txt = slicer_back(slicer_front(JRL.get_text(),'If some small savor creep into my rhyme'),'But is lord of the earldom as much as he.') # Delete the preface and conclusion\n",
    "# the titles are all capitalized, get rid of capitalized words\n",
    "JRL_txt = re.sub('[A-Z \\d\\W]+\\r\\n\\r\\n','\\r\\n\\r\\n\\r\\n\\r\\n\\r\\n',JRL_txt) # Clean the titles\n",
    "JRL_txt = re.sub('[1-9]\\d*\\.','',JRL_txt) # Clean the numbers\n",
    "# split the text into each poem\n",
    "JRL = JRL_txt.split('\\r\\n\\r\\n\\r\\n\\r\\n\\r\\n')\n",
    "JRL_c = [i for i in JRL if len(i)>50 and len(i)<500]\n",
    "len(JRL_c)"
   ]
  },
  {
   "cell_type": "code",
   "execution_count": 10,
   "metadata": {},
   "outputs": [
    {
     "data": {
      "text/plain": [
       "1427"
      ]
     },
     "execution_count": 10,
     "metadata": {},
     "output_type": "execute_result"
    }
   ],
   "source": [
    "CGR = get_soup('http://www.gutenberg.org/cache/epub/19188/pg19188.txt')\n",
    "# Clean preface, conclusion and titles\n",
    "CGR_txt = slicer_back(slicer_front(CGR.get_text(),'Morning and evening'),'We trust to Thee.') # Delete the preface and conclusion\n",
    "\n",
    "# Some of the titles are capitalized, some of the titles are numbers. \n",
    "# Get rid of capitalized words and numbers\n",
    "CGR_txt = re.sub('[A-Z \\d\\W]+\\r\\n\\r\\n','\\r\\n\\r\\n\\r\\n\\r\\n\\r\\n',CGR_txt) # Clean the titles\n",
    "CGR_txt = re.sub('[1-9]\\d*\\.','\\r\\n\\r\\n\\r\\n\\r\\n\\r\\n',CGR_txt) # Clean the numbers\n",
    "# split the text into each poem\n",
    "CGR = CGR_txt.split('\\r\\n\\r\\n\\r\\n\\r\\n\\r\\n')\n",
    "CGR_c = [i for i in CGR if len(i)>50 and len(i)<500]\n",
    "len(CGR_c)"
   ]
  },
  {
   "cell_type": "code",
   "execution_count": 11,
   "metadata": {},
   "outputs": [
    {
     "data": {
      "text/plain": [
       "4269"
      ]
     },
     "execution_count": 11,
     "metadata": {},
     "output_type": "execute_result"
    }
   ],
   "source": [
    "corpus = JRL_c+DJ_c+CGR_c\n",
    "len(corpus)"
   ]
  },
  {
   "cell_type": "code",
   "execution_count": 12,
   "metadata": {},
   "outputs": [
    {
     "data": {
      "text/plain": [
       "20743"
      ]
     },
     "execution_count": 12,
     "metadata": {},
     "output_type": "execute_result"
    }
   ],
   "source": [
    "tokenizer = Tokenizer()\n",
    "tokenizer.fit_on_texts(corpus)\n",
    "total_words = len( tokenizer.word_index ) + 1\n",
    "total_words"
   ]
  },
  {
   "cell_type": "code",
   "execution_count": 16,
   "metadata": {},
   "outputs": [],
   "source": [
    "input_sequences = []\n",
    "\n",
    "for line in corpus:\n",
    "    token_list = tokenizer.texts_to_sequences([line])[0]\n",
    "    for i in range(1, len(token_list)):\n",
    "        n_gram_sequence = token_list[:i + 1]\n",
    "        input_sequences.append(n_gram_sequence)"
   ]
  },
  {
   "cell_type": "code",
   "execution_count": 17,
   "metadata": {},
   "outputs": [
    {
     "data": {
      "text/plain": [
       "103"
      ]
     },
     "execution_count": 17,
     "metadata": {},
     "output_type": "execute_result"
    }
   ],
   "source": [
    "sequence_lengths = list()\n",
    "for x in input_sequences:\n",
    "    sequence_lengths.append( len( x ) )\n",
    "max_sequence_len = max( sequence_lengths )\n",
    "max_sequence_len"
   ]
  },
  {
   "cell_type": "code",
   "execution_count": 18,
   "metadata": {},
   "outputs": [],
   "source": [
    "input_sequences = np.array(pad_sequences(input_sequences,\n",
    "                                         maxlen=max_sequence_len+1, padding='pre'))\n",
    "x, y = input_sequences[:, :-1], input_sequences[:, -1]\n",
    "y = keras.utils.to_categorical(y, num_classes=total_words)"
   ]
  },
  {
   "cell_type": "code",
   "execution_count": 19,
   "metadata": {},
   "outputs": [
    {
     "name": "stdout",
     "output_type": "stream",
     "text": [
      "WARNING:tensorflow:From /home/ubuntu/anaconda3/envs/amazonei_tensorflow_p36/lib/python3.6/site-packages/tensorflow/python/ops/resource_variable_ops.py:435: colocate_with (from tensorflow.python.framework.ops) is deprecated and will be removed in a future version.\n",
      "Instructions for updating:\n",
      "Colocations handled automatically by placer.\n",
      "WARNING:tensorflow:From /home/ubuntu/anaconda3/envs/amazonei_tensorflow_p36/lib/python3.6/site-packages/tensorflow/python/keras/layers/core.py:143: calling dropout (from tensorflow.python.ops.nn_ops) with keep_prob is deprecated and will be removed in a future version.\n",
      "Instructions for updating:\n",
      "Please use `rate` instead of `keep_prob`. Rate should be set to `rate = 1 - keep_prob`.\n",
      "_________________________________________________________________\n",
      "Layer (type)                 Output Shape              Param #   \n",
      "=================================================================\n",
      "embedding (Embedding)        (None, 103, 128)          2655104   \n",
      "_________________________________________________________________\n",
      "lstm (LSTM)                  (None, 64)                49408     \n",
      "_________________________________________________________________\n",
      "dropout (Dropout)            (None, 64)                0         \n",
      "_________________________________________________________________\n",
      "dense (Dense)                (None, 64)                4160      \n",
      "_________________________________________________________________\n",
      "dropout_1 (Dropout)          (None, 64)                0         \n",
      "_________________________________________________________________\n",
      "dense_1 (Dense)              (None, 20743)             1348295   \n",
      "=================================================================\n",
      "Total params: 4,056,967\n",
      "Trainable params: 4,056,967\n",
      "Non-trainable params: 0\n",
      "_________________________________________________________________\n"
     ]
    }
   ],
   "source": [
    "dropout_rate = 0.2\n",
    "activation_func = keras.activations.relu\n",
    "\n",
    "SCHEMA = [\n",
    "\n",
    "    Embedding( total_words ,128, input_length=max_sequence_len ),\n",
    "    LSTM( 64 ) ,\n",
    "    Dropout(dropout_rate),\n",
    "    Dense( 64 , activation=activation_func ) ,\n",
    "    Dropout(dropout_rate),\n",
    "    Dense( total_words, activation=tf.nn.softmax )\n",
    "\n",
    "]\n",
    "model = keras.Sequential(SCHEMA)\n",
    "model.compile(\n",
    "    optimizer=keras.optimizers.Adam() ,\n",
    "    loss=keras.losses.categorical_crossentropy ,\n",
    "    metrics=[ 'accuracy' ]\n",
    ")\n",
    "model.summary()"
   ]
  },
  {
   "cell_type": "code",
   "execution_count": 20,
   "metadata": {},
   "outputs": [],
   "source": [
    "from tensorflow.keras.callbacks import ModelCheckpoint\n",
    "checkpoint = [ModelCheckpoint(filepath='2_TY_1Layer_LongCorp.hdf5',period=5)]"
   ]
  },
  {
   "cell_type": "code",
   "execution_count": 22,
   "metadata": {},
   "outputs": [
    {
     "name": "stdout",
     "output_type": "stream",
     "text": [
      "Epoch 1/15\n",
      "224522/224522 [==============================] - 869s 4ms/sample - loss: 6.8889 - acc: 0.1002\n",
      "Epoch 2/15\n",
      "224522/224522 [==============================] - 864s 4ms/sample - loss: 6.4986 - acc: 0.1253\n",
      "Epoch 3/15\n",
      "224522/224522 [==============================] - 861s 4ms/sample - loss: 6.2355 - acc: 0.1368\n",
      "Epoch 4/15\n",
      "224522/224522 [==============================] - 866s 4ms/sample - loss: 6.0511 - acc: 0.1448\n",
      "Epoch 5/15\n",
      "224522/224522 [==============================] - 862s 4ms/sample - loss: 5.9093 - acc: 0.1521\n",
      "Epoch 6/15\n",
      "224522/224522 [==============================] - 866s 4ms/sample - loss: 5.7960 - acc: 0.1568\n",
      "Epoch 7/15\n",
      "224522/224522 [==============================] - 866s 4ms/sample - loss: 5.6970 - acc: 0.1626\n",
      "Epoch 8/15\n",
      "224522/224522 [==============================] - 867s 4ms/sample - loss: 5.6182 - acc: 0.1671\n",
      "Epoch 9/15\n",
      "224522/224522 [==============================] - 867s 4ms/sample - loss: 5.5447 - acc: 0.1717\n",
      "Epoch 10/15\n",
      "224522/224522 [==============================] - 867s 4ms/sample - loss: 5.4892 - acc: 0.1750\n",
      "Epoch 11/15\n",
      "224522/224522 [==============================] - 866s 4ms/sample - loss: 5.4300 - acc: 0.1797\n",
      "Epoch 12/15\n",
      "224522/224522 [==============================] - 867s 4ms/sample - loss: 5.3799 - acc: 0.1835\n",
      "Epoch 13/15\n",
      "224522/224522 [==============================] - 867s 4ms/sample - loss: 5.3357 - acc: 0.1865\n",
      "Epoch 14/15\n",
      "224522/224522 [==============================] - 864s 4ms/sample - loss: 5.2956 - acc: 0.1908\n",
      "Epoch 15/15\n",
      "224522/224522 [==============================] - 867s 4ms/sample - loss: 5.2604 - acc: 0.1936\n"
     ]
    }
   ],
   "source": [
    "history = model.fit(\n",
    "    x,\n",
    "    y,\n",
    "    batch_size=32 ,\n",
    "    epochs=15,\n",
    "    callbacks=checkpoint\n",
    ")"
   ]
  },
  {
   "cell_type": "code",
   "execution_count": 24,
   "metadata": {},
   "outputs": [
    {
     "name": "stdout",
     "output_type": "stream",
     "text": [
      "Saved model to disk\n"
     ]
    }
   ],
   "source": [
    "# save model\n",
    "model_json = model.to_json()\n",
    "with open(\"2_TY_1Layer_4629_LongerCorp.json\", \"w\") as json_file:\n",
    "    json_file.write(model_json)\n",
    "# serialize weights to HDF5\n",
    "model.save_weights(\"2_TY_1Layer_4629_LongerCorp.h5\")\n",
    "print(\"Saved model to disk\")"
   ]
  },
  {
   "cell_type": "code",
   "execution_count": 25,
   "metadata": {},
   "outputs": [],
   "source": [
    "# Save Accuracy\n",
    "result = pd.DataFrame({'accuracy':history.history['acc'],'loss':history.history['loss']})\n",
    "result.to_csv(r'2_TY_1Layer_4629_LongerCorp_Accuracy.csv')"
   ]
  },
  {
   "cell_type": "code",
   "execution_count": 14,
   "metadata": {},
   "outputs": [
    {
     "name": "stdout",
     "output_type": "stream",
     "text": [
      "Loaded model from disk\n"
     ]
    }
   ],
   "source": [
    "# Load Model\n",
    "from keras.models import model_from_json\n",
    "# load json and create model\n",
    "json_file = open('2_TY_1Layer_4629_LongerCorp.json', 'r')\n",
    "loaded_model_json = json_file.read()\n",
    "json_file.close()\n",
    "loaded_model =  keras.models.model_from_json(loaded_model_json)\n",
    "# load weights into new model\n",
    "loaded_model.load_weights(\"2_TY_1Layer_4629_LongerCorp.h5\")\n",
    "print(\"Loaded model from disk\")"
   ]
  },
  {
   "cell_type": "code",
   "execution_count": 24,
   "metadata": {},
   "outputs": [
    {
     "name": "stdout",
     "output_type": "stream",
     "text": [
      "Enter some starter text ( I want ... ) : How \n",
      "Enter the desired length of the generated sentence : 8\n",
      "How  the world was a world of the world\n"
     ]
    }
   ],
   "source": [
    "def predict(seed_text , seed=10 ):\n",
    "\n",
    "    for i in range( seed ):\n",
    "\n",
    "        token_list = tokenizer.texts_to_sequences([seed_text])[0]\n",
    "        token_list = pad_sequences([token_list], maxlen=\n",
    "        max_sequence_len , padding='pre')\n",
    "        predicted = loaded_model.predict_classes(token_list, verbose=0 )\n",
    "        output_word = \"\"\n",
    "        for word, index in tokenizer.word_index.items():\n",
    "            if index == predicted:\n",
    "                output_word = word\n",
    "                break\n",
    "        seed_text += \" \" + output_word\n",
    "\n",
    "    return seed_text\n",
    "\n",
    "print( \n",
    "  predict( \n",
    "    input( 'Enter some starter text ( I want ... ) : ') , \n",
    "    int( input( 'Enter the desired length of the generated sentence : '))  \n",
    "  ) \n",
    ")"
   ]
  },
  {
   "cell_type": "code",
   "execution_count": null,
   "metadata": {},
   "outputs": [],
   "source": []
  }
 ],
 "metadata": {
  "kernelspec": {
   "display_name": "Python 3",
   "language": "python",
   "name": "python3"
  },
  "language_info": {
   "codemirror_mode": {
    "name": "ipython",
    "version": 3
   },
   "file_extension": ".py",
   "mimetype": "text/x-python",
   "name": "python",
   "nbconvert_exporter": "python",
   "pygments_lexer": "ipython3",
   "version": "3.6.5"
  }
 },
 "nbformat": 4,
 "nbformat_minor": 2
}
