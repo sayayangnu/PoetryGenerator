{
 "cells": [
  {
   "cell_type": "code",
   "execution_count": 1,
   "metadata": {},
   "outputs": [
    {
     "name": "stderr",
     "output_type": "stream",
     "text": [
      "/Users/chenlimin/anaconda3/lib/python3.6/site-packages/h5py/__init__.py:36: FutureWarning: Conversion of the second argument of issubdtype from `float` to `np.floating` is deprecated. In future, it will be treated as `np.float64 == np.dtype(float).type`.\n",
      "  from ._conv import register_converters as _register_converters\n"
     ]
    }
   ],
   "source": [
    "\n",
    "import pandas as pd\n",
    "import re\n",
    "import requests\n",
    "from bs4 import BeautifulSoup\n",
    "from tensorflow.keras.preprocessing.text import Tokenizer\n",
    "from tensorflow.keras.preprocessing.sequence import pad_sequences\n",
    "from tensorflow import keras\n",
    "from tensorflow import keras\n",
    "from tensorflow.keras.layers import *\n",
    "import tensorflow as tf\n",
    "import numpy as np\n",
    "from tensorflow.keras.models import model_from_json\n",
    "from tensorflow.keras.callbacks import ModelCheckpoint\n",
    "import sys\n",
    "\n",
    "# usage example(train for 100 epoch use past model) : python clm_3.py train 100\n",
    "# sample some short poems : python clm_3.py load 0 "
   ]
  },
  {
   "cell_type": "code",
   "execution_count": 2,
   "metadata": {},
   "outputs": [],
   "source": [
    "\n",
    "# This function slices the unwanted text (introduction, etc.) at the beginning of the txt file \n",
    "# It takes a string 'my_str', and delete everything before the specified 'sub' \n",
    "def slicer_front(my_str,sub):\n",
    "  index=my_str.find(sub)\n",
    "  if index !=-1 :\n",
    "        return my_str[index:] \n",
    "  else :\n",
    "        raise Exception('Sub string not found!')\n",
    "\n",
    "# This function slices the unwanted text (introduction, etc.) at the end of the txt file \n",
    "def slicer_back(my_str,sub):\n",
    "  index=my_str.find(sub)\n",
    "  if index !=-1 :\n",
    "        return my_str[:index] \n",
    "  else :\n",
    "        raise Exception('Sub string not found!')\n",
    "        \n",
    "        \n",
    "# writ a function to read in data from a url \n",
    "def get_soup(target_url):\n",
    "    r = requests.get(target_url)\n",
    "    soup = BeautifulSoup(r.text, \"html.parser\")\n",
    "    return soup\n",
    "\n",
    "DJ = get_soup('http://www.gutenberg.org/cache/epub/21700/pg21700.txt')\n",
    "# Clean preface, conclusion and titles\n",
    "DJ_txt = slicer_back(slicer_front(DJ.get_text(),'I want a hero: an uncommon want,'),'End of the Project Gutenberg EBook') # Delete the preface and conclusion\n",
    "DJ = DJ_txt.split('\\r\\n\\r\\n')\n",
    "DJ_c = [i for i in DJ if len(i)> 50 and len(i)<500]\n",
    "\n",
    "corpus = DJ_c\n",
    "\n",
    "tokenizer = Tokenizer()\n",
    "tokenizer.fit_on_texts(corpus)\n",
    "total_words = len( tokenizer.word_index ) + 1\n",
    "total_words\n",
    "\n",
    "input_sequences = []\n",
    "\n",
    "for line in corpus:\n",
    "    token_list = tokenizer.texts_to_sequences([line])[0]\n",
    "    for i in range(1, len(token_list)):\n",
    "        n_gram_sequence = token_list[:i + 1]\n",
    "        input_sequences.append(n_gram_sequence)\n",
    "        \n",
    "sequence_lengths = list()\n",
    "for x in input_sequences:\n",
    "    sequence_lengths.append( len( x ) )\n",
    "max_sequence_len = max( sequence_lengths )\n",
    "max_sequence_len\n",
    "\n",
    "input_sequences = np.array(pad_sequences(input_sequences,\n",
    "                                         maxlen=max_sequence_len+1, padding='pre'))\n",
    "x, y = input_sequences[:, :-1], input_sequences[:, -1]\n",
    "y = keras.utils.to_categorical(y, num_classes=total_words)\n",
    "\n",
    "dropout_rate = 0.2\n",
    "activation_func = keras.activations.relu"
   ]
  },
  {
   "cell_type": "code",
   "execution_count": null,
   "metadata": {},
   "outputs": [],
   "source": []
  },
  {
   "cell_type": "code",
   "execution_count": 11,
   "metadata": {},
   "outputs": [],
   "source": [
    "# in jupyter notebook we can only set it to load instead of sys.argv\n",
    "mode = 'load'"
   ]
  },
  {
   "cell_type": "code",
   "execution_count": 3,
   "metadata": {},
   "outputs": [],
   "source": [
    "# retrain model\n",
    "if mode == 'retrain':\n",
    "    SCHEMA = [\n",
    "    \n",
    "        Embedding( total_words ,128, input_length=max_sequence_len ),\n",
    "        LSTM( 64 ) ,\n",
    "        Dropout(dropout_rate),\n",
    "        Dense( 64 , activation=activation_func ) ,\n",
    "        Dropout(dropout_rate),\n",
    "        Dense( total_words, activation=tf.nn.softmax )\n",
    "    \n",
    "    ]\n",
    "    \n",
    "    model = keras.Sequential(SCHEMA)\n",
    "    model.compile(\n",
    "        optimizer=keras.optimizers.Adam() ,\n",
    "        loss=keras.losses.categorical_crossentropy ,\n",
    "        metrics=[ 'accuracy' ]\n",
    "    )\n",
    "    \n",
    "    model.summary()\n",
    "    \n",
    "    \n",
    "    checkpoint = [ModelCheckpoint(filepath='2_TY_1Layer_LongCorp.hdf5',period=5)]\n",
    "    \n",
    "    history = model.fit(\n",
    "        x,\n",
    "        y,\n",
    "        batch_size=32 ,\n",
    "        epochs=sys.argv[2],\n",
    "        callbacks=checkpoint\n",
    "    )\n",
    "    \n",
    "    \n",
    "    # save model\n",
    "    model_json = model.to_json()\n",
    "    with open(\"2_TY_1Layer_4629_LongerCorp.json\", \"w\") as json_file:\n",
    "        json_file.write(model_json)\n",
    "    # serialize weights to HDF5\n",
    "    model.save_weights(\"2_TY_1Layer_4629_LongerCorp.h5\")\n",
    "    print(\"Saved model to disk\")\n",
    "    \n",
    "    # Save Accuracy\n",
    "    result = pd.DataFrame({'accuracy':history.history['acc'],'loss':history.history['loss']})\n",
    "    result.to_csv(r'2_TY_1Layer_4629_LongerCorp_Accuracy.csv')\n"
   ]
  },
  {
   "cell_type": "code",
   "execution_count": 12,
   "metadata": {},
   "outputs": [
    {
     "name": "stdout",
     "output_type": "stream",
     "text": [
      "Loaded model from disk\n"
     ]
    }
   ],
   "source": [
    "# load the trained mode\n",
    "if mode == 'load':\n",
    "    # Load Model\n",
    "    from tensorflow.keras.models import model_from_json\n",
    "    # load json and create model\n",
    "    json_file = open('2_TY_1Layer_4629_LongerCorp.json', 'r')\n",
    "    loaded_model_json = json_file.read()\n",
    "    json_file.close()\n",
    "    loaded_model =  keras.models.model_from_json(loaded_model_json)\n",
    "    # load weights into new model\n",
    "    loaded_model.load_weights(\"2_TY_1Layer_4629_LongerCorp.h5\")\n",
    "    print(\"Loaded model from disk\")\n",
    "            \n",
    "        \n",
    "    def predict(seed_text , seed=10 ):\n",
    "    \n",
    "        for i in range( seed ):\n",
    "    \n",
    "            token_list = tokenizer.texts_to_sequences([seed_text])[0]\n",
    "            token_list = pad_sequences([token_list], maxlen=\n",
    "            max_sequence_len , padding='pre')\n",
    "            predicted = loaded_model.predict_classes(token_list, verbose=0 )\n",
    "            output_word = \"\"\n",
    "            for word, index in tokenizer.word_index.items():\n",
    "                if index == predicted:\n",
    "                    output_word = word\n",
    "                    break\n",
    "            seed_text += \" \" + output_word\n",
    "    \n",
    "        return seed_text\n"
   ]
  },
  {
   "cell_type": "code",
   "execution_count": 7,
   "metadata": {},
   "outputs": [],
   "source": [
    "# keep train mode\n",
    "if mode == 'train':\n",
    "    \n",
    "    from tensorflow.keras.models import model_from_json\n",
    "    # load json and create model\n",
    "    json_file = open('2_TY_1Layer_4629_LongerCorp.json', 'r')\n",
    "    loaded_model_json = json_file.read()\n",
    "    json_file.close()\n",
    "    loaded_model =  keras.models.model_from_json(loaded_model_json)\n",
    "    # load weights into new model\n",
    "    loaded_model.load_weights(\"2_TY_1Layer_4629_LongerCorp.h5\")\n",
    "    print(\"Loaded model from disk\")\n",
    "\n",
    "    checkpoint = [ModelCheckpoint(filepath='2_TY_1Layer_LongCorp.hdf5',period=5)]\n",
    "    model = loaded_model    \n",
    "    model.compile(\n",
    "    optimizer=keras.optimizers.Adam() ,\n",
    "    loss=keras.losses.categorical_crossentropy ,\n",
    "    metrics=[ 'accuracy' ]\n",
    "    )\n",
    "    # model batch size changes by the time step\n",
    "    # we adjust it by ourselves from 32 to 64 to 32*50 as we find that the model cannot find a proper gradient as the time goes\n",
    "    # se we need to broaden the batch size for a more stable gradient descent\n",
    "    history = model.fit(\n",
    "        x,\n",
    "        y,\n",
    "        batch_size=32*50 ,\n",
    "        epochs=int(sys.argv[2]),\n",
    "        callbacks=checkpoint\n",
    "    )\n",
    "    \n",
    "    \n",
    "    # save model\n",
    "    model_json = model.to_json()\n",
    "    with open(\"2_TY_1Layer_4629_LongerCorp.json\", \"w\") as json_file:\n",
    "        json_file.write(model_json)\n",
    "    # serialize weights to HDF5\n",
    "    model.save_weights(\"2_TY_1Layer_4629_LongerCorp.h5\")\n",
    "    print(\"Saved model to disk\")\n",
    "    \n",
    "    print(history.history.keys())    \n",
    "    # Save Accuracy\n",
    "    result = pd.DataFrame({'accuracy':history.history['accuracy'],'loss':history.history['loss']})\n",
    "    result.to_csv(r'2_TY_1Layer_4629_LongerCorp_Accuracy.csv')\n",
    "\n",
    "\n",
    "\n"
   ]
  },
  {
   "cell_type": "code",
   "execution_count": 8,
   "metadata": {},
   "outputs": [],
   "source": [
    "# inference of model\n",
    "def predict(seed_text , seed=10 ):\n",
    "\n",
    "    for i in range( seed ):\n",
    "\n",
    "        token_list = tokenizer.texts_to_sequences([seed_text])[0]\n",
    "        token_list = pad_sequences([token_list], maxlen=\n",
    "        max_sequence_len , padding='pre')\n",
    "        predicted = loaded_model.predict_classes(token_list, verbose=0 )\n",
    "        output_word = \"\"\n",
    "        for word, index in tokenizer.word_index.items():\n",
    "            if index == predicted:\n",
    "                output_word = word\n",
    "                break\n",
    "        seed_text += \" \" + output_word\n",
    "\n",
    "    return seed_text\n",
    "\n",
    "def test():\n",
    "    print( \n",
    "      predict( \n",
    "        input( 'Enter some starter text ( I want ... ) : ') , \n",
    "        int( input( 'Enter the desired length of the generated sentence : '))  \n",
    "      ) \n",
    "    )\n",
    "    "
   ]
  },
  {
   "cell_type": "code",
   "execution_count": 14,
   "metadata": {},
   "outputs": [
    {
     "name": "stdout",
     "output_type": "stream",
     "text": [
      "Enter some starter text ( I want ... ) : wine\n",
      "Enter the desired length of the generated sentence : 7\n",
      "wine was commonest and mostly in men \n"
     ]
    }
   ],
   "source": [
    "# show a demp\n",
    "test()\n"
   ]
  },
  {
   "cell_type": "code",
   "execution_count": null,
   "metadata": {},
   "outputs": [],
   "source": [
    "# pefformance plot\n"
   ]
  },
  {
   "cell_type": "code",
   "execution_count": 15,
   "metadata": {},
   "outputs": [],
   "source": [
    "import pandas as pd\n",
    "import matplotlib.pyplot as plt"
   ]
  },
  {
   "cell_type": "code",
   "execution_count": 16,
   "metadata": {},
   "outputs": [
    {
     "data": {
      "text/plain": [
       "[<matplotlib.lines.Line2D at 0xb3ad108d0>]"
      ]
     },
     "execution_count": 16,
     "metadata": {},
     "output_type": "execute_result"
    },
    {
     "data": {
      "image/png": "[encoded data removed]",
      "text/plain": [
       "<Figure size 432x288 with 1 Axes>"
      ]
     },
     "metadata": {},
     "output_type": "display_data"
    }
   ],
   "source": [
    "a=pd.read_csv('model_result.csv')\n",
    "\n",
    "plt.title('accuracy plot')\n",
    "plt.xlabel('epoch')\n",
    "plt.ylabel('accuracy')\n",
    "plt.plot(a['accuracy'])"
   ]
  },
  {
   "cell_type": "code",
   "execution_count": 17,
   "metadata": {},
   "outputs": [
    {
     "data": {
      "text/plain": [
       "[<matplotlib.lines.Line2D at 0xb385d8438>]"
      ]
     },
     "execution_count": 17,
     "metadata": {},
     "output_type": "execute_result"
    },
    {
     "data": {
      "image/png": "[encoded data removed]",
      "text/plain": [
       "<Figure size 432x288 with 1 Axes>"
      ]
     },
     "metadata": {},
     "output_type": "display_data"
    }
   ],
   "source": [
    "plt.title('loss plot')\n",
    "plt.xlabel('epoch')\n",
    "plt.ylabel('loss')\n",
    "plt.plot(a['loss'])"
   ]
  }
 ],
 "metadata": {
  "kernelspec": {
   "display_name": "myproject",
   "language": "python",
   "name": "myproject"
  },
  "language_info": {
   "codemirror_mode": {
    "name": "ipython",
    "version": 3
   },
   "file_extension": ".py",
   "mimetype": "text/x-python",
   "name": "python",
   "nbconvert_exporter": "python",
   "pygments_lexer": "ipython3",
   "version": "3.6.5"
  }
 },
 "nbformat": 4,
 "nbformat_minor": 2
}
