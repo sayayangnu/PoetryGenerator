{
 "cells": [
  {
   "cell_type": "code",
   "execution_count": 78,
   "metadata": {},
   "outputs": [],
   "source": [
    "import pandas as pd\n",
    "import re\n",
    "import requests\n",
    "from bs4 import BeautifulSoup\n",
    "from tensorflow.keras.preprocessing.text import Tokenizer\n",
    "from tensorflow.keras.preprocessing.sequence import pad_sequences\n",
    "from tensorflow import keras\n",
    "from tensorflow import keras\n",
    "from tensorflow.keras.layers import *\n",
    "import tensorflow as tf\n",
    "import numpy as np\n",
    "from keras.models import model_from_json"
   ]
  },
  {
   "cell_type": "code",
   "execution_count": 4,
   "metadata": {},
   "outputs": [],
   "source": [
    "# This function slices the unwanted text (introduction, etc.) at the beginning of the txt file \n",
    "# It takes a string 'my_str', and delete everything before the specified 'sub' \n",
    "def slicer_front(my_str,sub):\n",
    "  index=my_str.find(sub)\n",
    "  if index !=-1 :\n",
    "        return my_str[index:] \n",
    "  else :\n",
    "        raise Exception('Sub string not found!')"
   ]
  },
  {
   "cell_type": "code",
   "execution_count": 5,
   "metadata": {},
   "outputs": [],
   "source": [
    "# This function slices the unwanted text (introduction, etc.) at the end of the txt file \n",
    "def slicer_back(my_str,sub):\n",
    "  index=my_str.find(sub)\n",
    "  if index !=-1 :\n",
    "        return my_str[:index] \n",
    "  else :\n",
    "        raise Exception('Sub string not found!')"
   ]
  },
  {
   "cell_type": "code",
   "execution_count": 6,
   "metadata": {},
   "outputs": [],
   "source": [
    "# write a function to check distribution of each 'poem' after the split \n",
    "def see_len_dist(corpus):\n",
    "    get_len_dist = []\n",
    "    for i in corpus:\n",
    "        get_len_dist.append(len(i))\n",
    "    ax = sns.distplot(get_len_dist)\n",
    "        # further stuff\n",
    "    return ax"
   ]
  },
  {
   "cell_type": "code",
   "execution_count": 7,
   "metadata": {},
   "outputs": [],
   "source": [
    "# write a function to check distribution of 'very short item' after the split \n",
    "def see_short_len_dist(corpus):\n",
    "    get_len_dist = []\n",
    "    for i in corpus:\n",
    "        get_len_dist.append(len(i))\n",
    "    ax = sns.distplot([i for i in get_len_dist if i<300])\n",
    "        # further stuff\n",
    "    return ax"
   ]
  },
  {
   "cell_type": "code",
   "execution_count": 8,
   "metadata": {},
   "outputs": [],
   "source": [
    "# writ a function to read in data from a url \n",
    "def get_soup(target_url):\n",
    "    r = requests.get(target_url)\n",
    "    soup = BeautifulSoup(r.text, \"html.parser\")\n",
    "    return soup"
   ]
  },
  {
   "cell_type": "markdown",
   "metadata": {},
   "source": [
    "### Read Data: for now, only run on Dyllan Thomas dataset"
   ]
  },
  {
   "cell_type": "code",
   "execution_count": 9,
   "metadata": {},
   "outputs": [
    {
     "data": {
      "text/plain": [
       "201"
      ]
     },
     "execution_count": 9,
     "metadata": {},
     "output_type": "execute_result"
    }
   ],
   "source": [
    "with open('DylanThomas.txt',\"r\") as f:\n",
    "    DT_raw = f.read().split('\\n\\n\\n')\n",
    "len(DT_raw)"
   ]
  },
  {
   "cell_type": "code",
   "execution_count": 10,
   "metadata": {},
   "outputs": [
    {
     "data": {
      "text/plain": [
       "111"
      ]
     },
     "execution_count": 10,
     "metadata": {},
     "output_type": "execute_result"
    }
   ],
   "source": [
    "DT_c = [i for i in DT_raw if len(i)>200]\n",
    "len(DT_c)"
   ]
  },
  {
   "cell_type": "code",
   "execution_count": 11,
   "metadata": {},
   "outputs": [],
   "source": [
    "CP_raw = get_soup('https://raw.githubusercontent.com/tfavory/pmlg-poem-generator/master/model_training/corpus.txt')"
   ]
  },
  {
   "cell_type": "code",
   "execution_count": 12,
   "metadata": {},
   "outputs": [
    {
     "data": {
      "text/plain": [
       "631"
      ]
     },
     "execution_count": 12,
     "metadata": {},
     "output_type": "execute_result"
    }
   ],
   "source": [
    "CP = CP_raw.get_text().split('\\n\\n\\n\\n')\n",
    "len(CP)"
   ]
  },
  {
   "cell_type": "code",
   "execution_count": 13,
   "metadata": {},
   "outputs": [
    {
     "data": {
      "text/plain": [
       "621"
      ]
     },
     "execution_count": 13,
     "metadata": {},
     "output_type": "execute_result"
    }
   ],
   "source": [
    "CP_c = [i for i in CP if len(i)>200]\n",
    "len(CP_c)"
   ]
  },
  {
   "cell_type": "code",
   "execution_count": 14,
   "metadata": {},
   "outputs": [],
   "source": [
    "SE_raw = get_soup('http://www.gutenberg.org/files/1934/1934-0.txt')"
   ]
  },
  {
   "cell_type": "code",
   "execution_count": 15,
   "metadata": {},
   "outputs": [],
   "source": [
    "# Clean preface, conclusion and titles\n",
    "SE_txt = slicer_back(slicer_front(SE_raw.get_text(),'How sweet is the shepherd'),'***END OF THE PROJECT GUTENBERG') # Delete the preface and conclusion\n"
   ]
  },
  {
   "cell_type": "code",
   "execution_count": 16,
   "metadata": {},
   "outputs": [],
   "source": [
    "# the title are all capitalized, get rid of capitalized words\n",
    "# split the text into each poem\n",
    "SE = []\n",
    "for i in SE_txt.split('\\r\\n\\r\\n\\r\\n\\r\\n'):\n",
    "    i_c = re.sub('[A-Z \\d\\W]+\\r\\n','', i)\n",
    "    SE.append(i_c)"
   ]
  },
  {
   "cell_type": "code",
   "execution_count": 17,
   "metadata": {},
   "outputs": [
    {
     "data": {
      "text/plain": [
       "46"
      ]
     },
     "execution_count": 17,
     "metadata": {},
     "output_type": "execute_result"
    }
   ],
   "source": [
    "SE_c = [i for i in SE if len(i)>100]\n",
    "len(SE_c)"
   ]
  },
  {
   "cell_type": "code",
   "execution_count": 18,
   "metadata": {},
   "outputs": [],
   "source": [
    "DE_raw = get_soup('http://www.gutenberg.org/cache/epub/8789/pg8789.txt')"
   ]
  },
  {
   "cell_type": "code",
   "execution_count": 19,
   "metadata": {},
   "outputs": [],
   "source": [
    "# Clean preface, conclusion and titles\n",
    "DE_txt = slicer_back(slicer_front(DE_raw.get_text(),'IN the midway of this our'),'End of Project Gutenberg') # Delete the preface and conclusion\n"
   ]
  },
  {
   "cell_type": "code",
   "execution_count": 20,
   "metadata": {},
   "outputs": [
    {
     "data": {
      "text/plain": [
       "36"
      ]
     },
     "execution_count": 20,
     "metadata": {},
     "output_type": "execute_result"
    }
   ],
   "source": [
    "# the title are all capitalized, get rid of capitalized words\n",
    "# split the text into each poem\n",
    "DE = []\n",
    "for i in DE_txt.split('\\r\\n\\r\\n\\r\\n'):\n",
    "    i_c = re.sub('[A-Z \\d\\W]+\\r\\n','', i)\n",
    "    DE.append(i_c)\n",
    "len(DE)"
   ]
  },
  {
   "cell_type": "code",
   "execution_count": 21,
   "metadata": {},
   "outputs": [
    {
     "data": {
      "text/plain": [
       "34"
      ]
     },
     "execution_count": 21,
     "metadata": {},
     "output_type": "execute_result"
    }
   ],
   "source": [
    "DE_c = [i for i in DE if len(i)>10]\n",
    "len(DE_c)"
   ]
  },
  {
   "cell_type": "code",
   "execution_count": 22,
   "metadata": {},
   "outputs": [],
   "source": [
    "DJ = get_soup('http://www.gutenberg.org/cache/epub/21700/pg21700.txt')"
   ]
  },
  {
   "cell_type": "code",
   "execution_count": 23,
   "metadata": {},
   "outputs": [],
   "source": [
    "# Clean preface, conclusion and titles\n",
    "DJ_txt = slicer_back(slicer_front(DJ.get_text(),'I want a hero: an uncommon want,'),'End of the Project Gutenberg EBook') # Delete the preface and conclusion\n"
   ]
  },
  {
   "cell_type": "code",
   "execution_count": 24,
   "metadata": {},
   "outputs": [],
   "source": [
    "DJ = DJ_txt.split('\\r\\n\\r\\n')"
   ]
  },
  {
   "cell_type": "code",
   "execution_count": 25,
   "metadata": {},
   "outputs": [],
   "source": [
    "# append sentances\n",
    "DJ_c = [i for i in DJ if len(i)> 50]"
   ]
  },
  {
   "cell_type": "code",
   "execution_count": 26,
   "metadata": {},
   "outputs": [],
   "source": [
    "StaryB = get_soup('http://www.gutenberg.org/cache/epub/6524/pg6524.txt')"
   ]
  },
  {
   "cell_type": "code",
   "execution_count": 27,
   "metadata": {},
   "outputs": [],
   "source": [
    "# Clean preface, conclusion and titles\n",
    "# The titles are numbers\n",
    "StaryB_txt = slicer_back(slicer_front(StaryB.get_text(),'Stray birds of summer come to my window to sing and fly away.'),'End of the Project Gutenberg EBook') # Delete the preface and conclusion\n",
    "StaryB_txt = re.sub('[1-9]\\d*','\\r\\n\\r\\n\\r\\n\\r\\n',StaryB_txt) # Clean the titles"
   ]
  },
  {
   "cell_type": "code",
   "execution_count": 28,
   "metadata": {},
   "outputs": [],
   "source": [
    "StaryB = StaryB_txt.split('\\r\\n\\r\\n\\r\\n\\r\\n')"
   ]
  },
  {
   "cell_type": "code",
   "execution_count": 29,
   "metadata": {},
   "outputs": [],
   "source": [
    "# append sentances\n",
    "StaryB_c = [i for i in StaryB if len(i)> 10]"
   ]
  },
  {
   "cell_type": "code",
   "execution_count": 30,
   "metadata": {},
   "outputs": [],
   "source": [
    "GH = get_soup('http://www.gutenberg.org/cache/epub/30488/pg30488.txt')"
   ]
  },
  {
   "cell_type": "code",
   "execution_count": 32,
   "metadata": {},
   "outputs": [],
   "source": [
    "# Clean preface and conclusion\n",
    "GH_txt = slicer_back(slicer_front(GH.get_text(),'I swayed upon the gaudy stern'),'One cannot begin it too soon.') # Delete the preface and conclusion\n",
    "# the titles are all capitalized, get rid of capitalized words\n",
    "GH_txt = re.sub('[A-Z \\d\\W]+\\r\\n\\r\\n','\\r\\n\\r\\n\\r\\n\\r\\n\\r\\n',GH_txt) # Clean the titles"
   ]
  },
  {
   "cell_type": "code",
   "execution_count": 33,
   "metadata": {},
   "outputs": [],
   "source": [
    "# split the text into each poem\n",
    "GH = GH_txt.split('\\r\\n\\r\\n\\r\\n\\r\\n\\r\\n')"
   ]
  },
  {
   "cell_type": "code",
   "execution_count": 34,
   "metadata": {},
   "outputs": [
    {
     "data": {
      "text/plain": [
       "28"
      ]
     },
     "execution_count": 34,
     "metadata": {},
     "output_type": "execute_result"
    }
   ],
   "source": [
    "GH_c = [i for i in GH if len(i)>150]\n",
    "len(GH_c)"
   ]
  },
  {
   "cell_type": "code",
   "execution_count": 35,
   "metadata": {},
   "outputs": [],
   "source": [
    "JRL = get_soup('http://www.gutenberg.org/files/38520/38520-0.txt')"
   ]
  },
  {
   "cell_type": "code",
   "execution_count": 36,
   "metadata": {},
   "outputs": [],
   "source": [
    "# Clean preface, conclusion and titles\n",
    "JRL_txt = slicer_back(slicer_front(JRL.get_text(),'If some small savor creep into my rhyme'),'But is lord of the earldom as much as he.') # Delete the preface and conclusion\n",
    "# the titles are all capitalized, get rid of capitalized words\n",
    "JRL_txt = re.sub('[A-Z \\d\\W]+\\r\\n\\r\\n','\\r\\n\\r\\n\\r\\n\\r\\n\\r\\n',JRL_txt) # Clean the titles\n",
    "JRL_txt = re.sub('[1-9]\\d*\\.','',JRL_txt) # Clean the numbers"
   ]
  },
  {
   "cell_type": "code",
   "execution_count": 37,
   "metadata": {},
   "outputs": [],
   "source": [
    "# split the text into each poem\n",
    "JRL = JRL_txt.split('\\r\\n\\r\\n\\r\\n\\r\\n\\r\\n')"
   ]
  },
  {
   "cell_type": "code",
   "execution_count": 38,
   "metadata": {},
   "outputs": [
    {
     "data": {
      "text/plain": [
       "1025"
      ]
     },
     "execution_count": 38,
     "metadata": {},
     "output_type": "execute_result"
    }
   ],
   "source": [
    "JRL_c = [i for i in JRL if len(i)>150]\n",
    "len(JRL_c)"
   ]
  },
  {
   "cell_type": "code",
   "execution_count": 39,
   "metadata": {},
   "outputs": [],
   "source": [
    "CGR = get_soup('http://www.gutenberg.org/cache/epub/19188/pg19188.txt')"
   ]
  },
  {
   "cell_type": "code",
   "execution_count": 40,
   "metadata": {},
   "outputs": [],
   "source": [
    "# Clean preface, conclusion and titles\n",
    "CGR_txt = slicer_back(slicer_front(CGR.get_text(),'Morning and evening'),'We trust to Thee.') # Delete the preface and conclusion\n",
    "\n",
    "# Some of the titles are capitalized, some of the titles are numbers. \n",
    "# Get rid of capitalized words and numbers\n",
    "CGR_txt = re.sub('[A-Z \\d\\W]+\\r\\n\\r\\n','\\r\\n\\r\\n\\r\\n\\r\\n\\r\\n',CGR_txt) # Clean the titles\n",
    "CGR_txt = re.sub('[1-9]\\d*\\.','\\r\\n\\r\\n\\r\\n\\r\\n\\r\\n',CGR_txt) # Clean the numbers"
   ]
  },
  {
   "cell_type": "code",
   "execution_count": 41,
   "metadata": {},
   "outputs": [],
   "source": [
    "# split the text into each poem\n",
    "CGR = CGR_txt.split('\\r\\n\\r\\n\\r\\n\\r\\n\\r\\n')"
   ]
  },
  {
   "cell_type": "code",
   "execution_count": 42,
   "metadata": {},
   "outputs": [],
   "source": [
    "CGR_c = [i for i in CGR if len(i)>100]"
   ]
  },
  {
   "cell_type": "code",
   "execution_count": 43,
   "metadata": {},
   "outputs": [],
   "source": [
    "corpus = DT_c+ CP_c+ SE_c+ DE_c+ DJ_c + StaryB_c + GH_c + JRL_c + CGR_c"
   ]
  },
  {
   "cell_type": "code",
   "execution_count": 44,
   "metadata": {},
   "outputs": [
    {
     "data": {
      "text/plain": [
       "5715"
      ]
     },
     "execution_count": 44,
     "metadata": {},
     "output_type": "execute_result"
    }
   ],
   "source": [
    "len(corpus)"
   ]
  },
  {
   "cell_type": "markdown",
   "metadata": {},
   "source": [
    "### Preprocessing"
   ]
  },
  {
   "cell_type": "code",
   "execution_count": 45,
   "metadata": {},
   "outputs": [
    {
     "data": {
      "text/plain": [
       "36300"
      ]
     },
     "execution_count": 45,
     "metadata": {},
     "output_type": "execute_result"
    }
   ],
   "source": [
    "tokenizer = Tokenizer()\n",
    "tokenizer.fit_on_texts(corpus)\n",
    "total_words = len( tokenizer.word_index ) + 1\n",
    "total_words"
   ]
  },
  {
   "cell_type": "code",
   "execution_count": 46,
   "metadata": {},
   "outputs": [],
   "source": [
    "input_sequences = []\n",
    "\n",
    "for line in corpus:\n",
    "    token_list = tokenizer.texts_to_sequences([line])[0]\n",
    "    for i in range(1, len(token_list)):\n",
    "        n_gram_sequence = token_list[:i + 1]\n",
    "        input_sequences.append(n_gram_sequence)"
   ]
  },
  {
   "cell_type": "code",
   "execution_count": 47,
   "metadata": {},
   "outputs": [
    {
     "data": {
      "text/plain": [
       "5164"
      ]
     },
     "execution_count": 47,
     "metadata": {},
     "output_type": "execute_result"
    }
   ],
   "source": [
    "sequence_lengths = list()\n",
    "for x in input_sequences:\n",
    "    sequence_lengths.append( len( x ) )\n",
    "max_sequence_len = max( sequence_lengths )\n",
    "max_sequence_len"
   ]
  },
  {
   "cell_type": "code",
   "execution_count": 48,
   "metadata": {},
   "outputs": [],
   "source": [
    "input_sequences = np.array(pad_sequences(input_sequences,\n",
    "                                         maxlen=max_sequence_len+1, padding='pre'))\n",
    "x, y = input_sequences[:, :-1], input_sequences[:, -1]\n",
    "y = keras.utils.to_categorical(y, num_classes=total_words)"
   ]
  },
  {
   "cell_type": "markdown",
   "metadata": {},
   "source": [
    "\n",
    "dropout_rate = 0.2\n",
    "activation_func = keras.activations.relu\n",
    "\n",
    "SCHEMA = [\n",
    "\n",
    "    Embedding( total_words , 64, input_length=max_sequence_len ),\n",
    "    LSTM( 64 ) ,\n",
    "    Dropout(dropout_rate),\n",
    "    Dense( 32 , activation=activation_func ) ,\n",
    "    Dropout(dropout_rate),\n",
    "    Dense( total_words, activation=tf.nn.softmax )\n",
    "\n",
    "]\n",
    "model = keras.Sequential(SCHEMA)\n",
    "model.compile(\n",
    "    optimizer=keras.optimizers.Adam() ,\n",
    "    loss=keras.losses.categorical_crossentropy ,\n",
    "    metrics=[ 'accuracy' ]\n",
    ")\n",
    "model.summary()"
   ]
  },
  {
   "cell_type": "code",
   "execution_count": 59,
   "metadata": {},
   "outputs": [
    {
     "name": "stdout",
     "output_type": "stream",
     "text": [
      "Model: \"sequential_11\"\n",
      "_________________________________________________________________\n",
      "Layer (type)                 Output Shape              Param #   \n",
      "=================================================================\n",
      "embedding_11 (Embedding)     (None, 5164, 512)         18585600  \n",
      "_________________________________________________________________\n",
      "lstm_19 (LSTM)               (None, 5164, 128)         328192    \n",
      "_________________________________________________________________\n",
      "dropout_28 (Dropout)         (None, 5164, 128)         0         \n",
      "_________________________________________________________________\n",
      "lstm_20 (LSTM)               (None, 5164, 128)         131584    \n",
      "_________________________________________________________________\n",
      "dropout_29 (Dropout)         (None, 5164, 128)         0         \n",
      "_________________________________________________________________\n",
      "lstm_21 (LSTM)               (None, 64)                49408     \n",
      "_________________________________________________________________\n",
      "dropout_30 (Dropout)         (None, 64)                0         \n",
      "_________________________________________________________________\n",
      "dense_22 (Dense)             (None, 32)                2080      \n",
      "_________________________________________________________________\n",
      "dropout_31 (Dropout)         (None, 32)                0         \n",
      "_________________________________________________________________\n",
      "dense_23 (Dense)             (None, 36300)             1197900   \n",
      "=================================================================\n",
      "Total params: 20,294,764\n",
      "Trainable params: 20,294,764\n",
      "Non-trainable params: 0\n",
      "_________________________________________________________________\n"
     ]
    }
   ],
   "source": [
    "# clm new\n",
    "dropout_rate = 0.2\n",
    "activation_func = keras.activations.relu\n",
    "\n",
    "SCHEMA = [\n",
    "\n",
    "    Embedding( total_words , 512, input_length=max_sequence_len ),\n",
    "    LSTM( 128, return_sequences = True ) ,\n",
    "    Dropout(dropout_rate),\n",
    "    LSTM( 128, return_sequences = True ),\n",
    "    Dropout(dropout_rate),\n",
    "    LSTM( 64 ),\n",
    "    Dropout(dropout_rate),\n",
    "    Dense( 32 , activation=activation_func ) ,\n",
    "    Dropout(dropout_rate),\n",
    "    Dense( total_words, activation=tf.nn.softmax )\n",
    "\n",
    "]\n",
    "model = keras.Sequential(SCHEMA)\n",
    "model.compile(\n",
    "    optimizer=keras.optimizers.Adam() ,\n",
    "    loss=keras.losses.categorical_crossentropy ,\n",
    "    metrics=[ 'accuracy' ]\n",
    ")\n",
    "model.summary()"
   ]
  },
  {
   "cell_type": "code",
   "execution_count": 81,
   "metadata": {},
   "outputs": [],
   "source": [
    "from keras.callbacks import ModelCheckpoint\n",
    "checkpoint = [ModelCheckpoint(filepath='models.hdf5',period=20)]"
   ]
  },
  {
   "cell_type": "code",
   "execution_count": null,
   "metadata": {},
   "outputs": [
    {
     "name": "stdout",
     "output_type": "stream",
     "text": [
      "Train on 616227 samples\n"
     ]
    }
   ],
   "source": [
    "model.fit(\n",
    "    x,\n",
    "    y,\n",
    "    batch_size=32 ,\n",
    "    epochs=200,\n",
    "    callbacks=checkpoint\n",
    ")"
   ]
  },
  {
   "cell_type": "markdown",
   "metadata": {},
   "source": [
    "from keras.models import load_model"
   ]
  },
  {
   "cell_type": "markdown",
   "metadata": {},
   "source": [
    "m1 = load_model('models.hdf5')"
   ]
  },
  {
   "cell_type": "code",
   "execution_count": 73,
   "metadata": {},
   "outputs": [
    {
     "name": "stdout",
     "output_type": "stream",
     "text": [
      "Saved model to disk\n"
     ]
    }
   ],
   "source": [
    "# serialize model to JSON\n",
    "model_json = model.to_json()\n",
    "with open(\"model.json\", \"w\") as json_file:\n",
    "    json_file.write(model_json)\n",
    "# serialize weights to HDF5\n",
    "model.save_weights(\"model.h5\")\n",
    "print(\"Saved model to disk\")"
   ]
  },
  {
   "cell_type": "markdown",
   "metadata": {},
   "source": [
    "def predict(seed_text , seed=10 ):\n",
    "\n",
    "    for i in range( seed ):\n",
    "\n",
    "        token_list = tokenizer.texts_to_sequences([seed_text])[0]\n",
    "        token_list = pad_sequences([token_list], maxlen=\n",
    "        max_sequence_len , padding='pre')\n",
    "        predicted = model.predict_classes(token_list, verbose=0 )\n",
    "        output_word = \"\"\n",
    "        for word, index in tokenizer.word_index.items():\n",
    "            if index == predicted:\n",
    "                output_word = word\n",
    "                break\n",
    "        seed_text += \" \" + output_word\n",
    "\n",
    "    return seed_text"
   ]
  },
  {
   "cell_type": "markdown",
   "metadata": {},
   "source": [
    "print( \n",
    "  predict( \n",
    "    input( 'Enter some starter text ( I want ... ) : ') , \n",
    "    int( input( 'Enter the desired length of the generated sentence : '))  \n",
    "  ) \n",
    ")"
   ]
  },
  {
   "cell_type": "markdown",
   "metadata": {},
   "source": [
    "from keras.models import model_from_json\n",
    "##### load json and create model\n",
    "json_file = open('model.json', 'r')\n",
    "loaded_model_json = json_file.read()\n",
    "json_file.close()\n",
    "loaded_model =  keras.models.model_from_json(loaded_model_json)\n",
    "##### load weights into new model\n",
    "loaded_model.load_weights(\"model.h5\")\n",
    "print(\"Loaded model from disk\")"
   ]
  },
  {
   "cell_type": "markdown",
   "metadata": {},
   "source": [
    "def predict(seed_text , seed=10 ):\n",
    "\n",
    "    for i in range( seed ):\n",
    "\n",
    "        token_list = tokenizer.texts_to_sequences([seed_text])[0]\n",
    "        token_list = pad_sequences([token_list], maxlen=\n",
    "        max_sequence_len , padding='pre')\n",
    "        predicted = loaded_model.predict_classes(token_list, verbose=0 )\n",
    "        output_word = \"\"\n",
    "        for word, index in tokenizer.word_index.items():\n",
    "            if index == predicted:\n",
    "                output_word = word\n",
    "                break\n",
    "        seed_text += \" \" + output_word\n",
    "\n",
    "    return seed_text\n",
    "\n",
    "print( \n",
    "  predict( \n",
    "    input( 'Enter some starter text ( I want ... ) : ') , \n",
    "    int( input( 'Enter the desired length of the generated sentence : '))  \n",
    "  ) \n",
    ")"
   ]
  }
 ],
 "metadata": {
  "kernelspec": {
   "display_name": "Python 3",
   "language": "python",
   "name": "python3"
  },
  "language_info": {
   "codemirror_mode": {
    "name": "ipython",
    "version": 3
   },
   "file_extension": ".py",
   "mimetype": "text/x-python",
   "name": "python",
   "nbconvert_exporter": "python",
   "pygments_lexer": "ipython3",
   "version": "3.7.4"
  }
 },
 "nbformat": 4,
 "nbformat_minor": 2
}
