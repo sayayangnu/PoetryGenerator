{
 "cells": [
  {
   "cell_type": "code",
   "execution_count": null,
   "metadata": {},
   "outputs": [],
   "source": [
    "# Char RNN code"
   ]
  },
  {
   "cell_type": "code",
   "execution_count": 3,
   "metadata": {},
   "outputs": [
    {
     "name": "stderr",
     "output_type": "stream",
     "text": [
      "/Users/chenlimin/anaconda3/lib/python3.6/site-packages/h5py/__init__.py:36: FutureWarning: Conversion of the second argument of issubdtype from `float` to `np.floating` is deprecated. In future, it will be treated as `np.float64 == np.dtype(float).type`.\n",
      "  from ._conv import register_converters as _register_converters\n",
      "Using TensorFlow backend.\n"
     ]
    }
   ],
   "source": [
    "import os\n",
    "from keras.models import Sequential, load_model\n",
    "from keras.layers import LSTM, Dropout, TimeDistributed, Dense, Activation, Embedding\n"
   ]
  },
  {
   "cell_type": "code",
   "execution_count": 4,
   "metadata": {},
   "outputs": [
    {
     "name": "stdout",
     "output_type": "stream",
     "text": [
      "Model: \"sequential_1\"\n",
      "_________________________________________________________________\n",
      "Layer (type)                 Output Shape              Param #   \n",
      "=================================================================\n",
      "embedding_1 (Embedding)      (16, 64, 512)             25600     \n",
      "_________________________________________________________________\n",
      "lstm_1 (LSTM)                (16, 64, 256)             787456    \n",
      "_________________________________________________________________\n",
      "dropout_1 (Dropout)          (16, 64, 256)             0         \n",
      "_________________________________________________________________\n",
      "lstm_2 (LSTM)                (16, 64, 256)             525312    \n",
      "_________________________________________________________________\n",
      "dropout_2 (Dropout)          (16, 64, 256)             0         \n",
      "_________________________________________________________________\n",
      "lstm_3 (LSTM)                (16, 64, 256)             525312    \n",
      "_________________________________________________________________\n",
      "dropout_3 (Dropout)          (16, 64, 256)             0         \n",
      "_________________________________________________________________\n",
      "time_distributed_1 (TimeDist (16, 64, 50)              12850     \n",
      "_________________________________________________________________\n",
      "activation_1 (Activation)    (16, 64, 50)              0         \n",
      "=================================================================\n",
      "Total params: 1,876,530\n",
      "Trainable params: 1,876,530\n",
      "Non-trainable params: 0\n",
      "_________________________________________________________________\n"
     ]
    }
   ],
   "source": [
    "MODEL_DIR = './model'\n",
    "\n",
    "# save weight\n",
    "def save_weights(epoch, model):\n",
    "    if not os.path.exists(MODEL_DIR):\n",
    "        os.makedirs(MODEL_DIR)\n",
    "    model.save_weights(os.path.join(MODEL_DIR, 'weights.{}.h5'.format(epoch)))\n",
    "\n",
    "# load weight\n",
    "def load_weights(epoch, model):\n",
    "    model.load_weights(os.path.join(MODEL_DIR, 'weights.{}.h5'.format(epoch)))\n",
    "\n",
    "# build model\n",
    "def build_model(batch_size, seq_len, vocab_size):\n",
    "    model = Sequential()\n",
    "    model.add(Embedding(vocab_size, 512, batch_input_shape=(batch_size, seq_len)))\n",
    "    for i in range(3):\n",
    "        model.add(LSTM(256, return_sequences=True, stateful=True))\n",
    "        model.add(Dropout(0.2))\n",
    "\n",
    "    model.add(TimeDistributed(Dense(vocab_size)))\n",
    "    model.add(Activation('softmax'))\n",
    "    return model\n",
    "\n",
    "# main\n",
    "if __name__ == '__main__':\n",
    "    model = build_model(16, 64, 50)\n",
    "    model.summary()\n",
    "\n"
   ]
  },
  {
   "cell_type": "code",
   "execution_count": 6,
   "metadata": {},
   "outputs": [],
   "source": [
    "import argparse\n",
    "import json\n",
    "import os\n",
    "from pathlib import Path\n",
    "import sys\n",
    "import numpy as np"
   ]
  },
  {
   "cell_type": "code",
   "execution_count": null,
   "metadata": {},
   "outputs": [],
   "source": [
    "\n",
    "# train with default parameters\n",
    "def train(text, epochs=100, save_freq=10, resume=False):\n",
    "\n",
    "    # reload model to continue training\n",
    "    if resume:\n",
    "        print(\"Attempting to resume last training...\")\n",
    "\n",
    "        model_dir = Path(MODEL_DIR)\n",
    "        c2ifile = model_dir.joinpath('char_to_idx.json')\n",
    "        with c2ifile.open('r') as f:\n",
    "            char_to_idx = json.load(f)\n",
    "\n",
    "        checkpoints = list(model_dir.glob('weights.*.h5'))\n",
    "        if not checkpoints:\n",
    "            raise ValueError(\"No checkpoints found to resume from\")\n",
    "\n",
    "        resume_epoch = max(int(p.name.split('.')[1]) for p in checkpoints)\n",
    "        print(\"Resuming from epoch\", resume_epoch)\n",
    "        \n",
    "    # train at a new begining as the last several training was broken\n",
    "    else:\n",
    "        resume_epoch = 0\n",
    "        # checking table for every char\n",
    "        char_to_idx = {ch: i for (i, ch) in enumerate(sorted(list(set(text))))}\n",
    "        with open(os.path.join(MODEL_DIR, 'char_to_idx.json'), 'w') as f:\n",
    "            json.dump(char_to_idx, f)\n",
    "\n",
    "    vocab_size = len(char_to_idx)\n",
    "    # build model\n",
    "    model = build_model(BATCH_SIZE, SEQ_LENGTH, vocab_size)\n",
    "    model.summary()\n",
    "    model.compile(loss='categorical_crossentropy',\n",
    "                  optimizer='adam', metrics=['accuracy'])\n",
    "\n",
    "    if resume:\n",
    "        load_weights(resume_epoch, model)\n",
    "\n",
    "    T = np.asarray([char_to_idx[c] for c in text], dtype=np.int32)\n",
    "    log = TrainLogger('training_log.csv', resume_epoch)\n",
    "\n",
    "    for epoch in range(resume_epoch, epochs):\n",
    "        print('\\nEpoch {}/{}'.format(epoch + 1, epochs))\n",
    "        losses, accs = [], []\n",
    "        for i, (X, Y) in enumerate(read_batches(T, vocab_size)):\n",
    "            loss, acc = model.train_on_batch(X, Y)\n",
    "            print('Batch {}: loss = {:.4f}, acc = {:.5f}'.format(i + 1, loss, acc))\n",
    "            losses.append(loss)\n",
    "            accs.append(acc)\n",
    "        # add the record of loss and acc every epo\n",
    "        log.add_entry(np.average(losses), np.average(accs))\n",
    "\n",
    "        if (epoch + 1) % save_freq == 0:\n",
    "            save_weights(epoch + 1, model)\n",
    "            print('Saved checkpoint to', 'weights.{}.h5'.format(epoch + 1))\n",
    "\n",
    "# main\n",
    "if __name__ == '__main__':\n",
    "    parser = argparse.ArgumentParser(description='Train the model on some text.')\n",
    "    parser.add_argument('--input', default='nottingham-jigs.txt',\n",
    "                        help='name of the text file to train from')\n",
    "    parser.add_argument('--epochs', type=int, default=100,\n",
    "                        help='number of epochs to train for')\n",
    "    parser.add_argument('--freq', type=int, default=10,\n",
    "                        help='checkpoint save frequency')\n",
    "    parser.add_argument('--resume', action='store_true',\n",
    "                        help='resume from previously interrupted training')\n",
    "    args = parser.parse_args()\n",
    "\n",
    "    if not os.path.exists(LOG_DIR):\n",
    "        os.makedirs(LOG_DIR)\n",
    "    if not os.path.exists(MODEL_DIR):\n",
    "        os.makedirs(MODEL_DIR)\n",
    "\n",
    "    with open(os.path.join(DATA_DIR, args.input), 'r') as data_file:\n",
    "        text = data_file.read()\n",
    "    train(text, args.epochs, args.freq, args.resume)\n"
   ]
  },
  {
   "cell_type": "code",
   "execution_count": 8,
   "metadata": {},
   "outputs": [],
   "source": [
    "import numpy as np\n",
    "from keras.models import Sequential, load_model\n",
    "from keras.layers import LSTM, Dropout, TimeDistributed, Dense, Activation, Embedding\n",
    "from model import build_model, load_weights\n"
   ]
  },
  {
   "cell_type": "code",
   "execution_count": 10,
   "metadata": {},
   "outputs": [],
   "source": [
    "DATA_DIR = './data'\n",
    "MODEL_DIR = './model'\n",
    "\n",
    "# redesign the framework of DNN\n",
    "def build_sample_model(vocab_size):\n",
    "    model = Sequential()\n",
    "    model.add(Embedding(vocab_size, 512, batch_input_shape=(1, 1)))\n",
    "    for i in range(3):\n",
    "        model.add(LSTM(256, return_sequences=(i != 2), stateful=True))\n",
    "        model.add(Dropout(0.2))\n",
    "\n",
    "    model.add(Dense(vocab_size))\n",
    "    model.add(Activation('softmax'))\n",
    "    return model\n",
    "    \n",
    "# generate samples from model\n",
    "def sample(epoch, header, num_chars):\n",
    "    with open(os.path.join(MODEL_DIR, 'char_to_idx.json'), 'r') as f:\n",
    "        char_to_idx = json.load(f)\n",
    "    idx_to_char = { i: ch for (ch, i) in list(char_to_idx.items()) }\n",
    "    vocab_size = len(char_to_idx)\n",
    "\n",
    "    model = build_sample_model(vocab_size)\n",
    "    load_weights(epoch, model)\n",
    "    model.save(os.path.join(MODEL_DIR, 'model.{}.h5'.format(epoch)))\n",
    "\n",
    "    sampled = [char_to_idx[c] for c in header]\n",
    "    for c in header[:-1]:\n",
    "        batch = np.zeros((1, 1))\n",
    "        batch[0, 0] = char_to_idx[c]\n",
    "        model.predict_on_batch(batch)\n",
    "\n",
    "    for i in range(num_chars):\n",
    "        batch = np.zeros((1, 1))\n",
    "        if sampled:\n",
    "            batch[0, 0] = sampled[-1]\n",
    "        else:\n",
    "            batch[0, 0] = np.random.randint(vocab_size)\n",
    "        result = model.predict_on_batch(batch).ravel()\n",
    "        sample = np.random.choice(list(range(vocab_size)), p=result)\n",
    "        sampled.append(sample)\n",
    "    # turn index to char through checking table\n",
    "    return ''.join(idx_to_char[c] for c in sampled)\n"
   ]
  },
  {
   "cell_type": "code",
   "execution_count": 21,
   "metadata": {},
   "outputs": [],
   "source": [
    "# loss acc plot\n",
    "\n",
    "import pandas as pd\n",
    "import matplotlib.pyplot as plt"
   ]
  },
  {
   "cell_type": "code",
   "execution_count": 24,
   "metadata": {},
   "outputs": [
    {
     "data": {
      "text/plain": [
       "[<matplotlib.lines.Line2D at 0xb3dc11080>]"
      ]
     },
     "execution_count": 24,
     "metadata": {},
     "output_type": "execute_result"
    },
    {
     "data": {
      "image/png": "[encoded data removed]",
      "text/plain": [
       "<Figure size 432x288 with 1 Axes>"
      ]
     },
     "metadata": {},
     "output_type": "display_data"
    }
   ],
   "source": [
    "a=pd.read_csv('./logs/training_log.csv')\n",
    "# accuracy\n",
    "plt.title('accuracy plot')\n",
    "plt.xlabel('epoch')\n",
    "plt.ylabel('accuracy')\n",
    "plt.plot(a['acc'])\n"
   ]
  },
  {
   "cell_type": "code",
   "execution_count": 25,
   "metadata": {},
   "outputs": [
    {
     "data": {
      "text/plain": [
       "[<matplotlib.lines.Line2D at 0xb3d56def0>]"
      ]
     },
     "execution_count": 25,
     "metadata": {},
     "output_type": "execute_result"
    },
    {
     "data": {
      "image/png": "[encoded data removed]",
      "text/plain": [
       "<Figure size 432x288 with 1 Axes>"
      ]
     },
     "metadata": {},
     "output_type": "display_data"
    }
   ],
   "source": [
    "# loss\n",
    "plt.title('loss plot')\n",
    "plt.xlabel('epoch')\n",
    "plt.ylabel('loss')\n",
    "plt.plot(a['loss'])"
   ]
  },
  {
   "cell_type": "code",
   "execution_count": 16,
   "metadata": {},
   "outputs": [],
   "source": [
    "# set parameters\n",
    "epoch = 500\n",
    "seed = ''\n",
    "leng = 5000"
   ]
  },
  {
   "cell_type": "code",
   "execution_count": 18,
   "metadata": {},
   "outputs": [
    {
     "name": "stdout",
     "output_type": "stream",
     "text": [
      " sia,\n",
      "  And made him now will but, hatch in sears,\n",
      "  A hauntless toil, a mim, if her solitude\n",
      "  Meant we see to mind, and that the boy speezs,\n",
      "  The doubt thou also joe, and court in\n",
      "  For you of diverse for the scattering door:\n",
      "  The cold shadow-voice (they prayed the storm\n",
      "  And life; but milky the wail of stenes, dipping\n",
      "  The pore-blade teach their winton green brance\n",
      "  And seeking a carm grown, nor used to interve death\n",
      "  With time a dreadful mystic fire\n",
      "  A more with water snow which with the Turting\n",
      "  Callside at them the name, and like another side\n",
      "  Behind him hurting from the number care\n",
      "  Unto the heaven! whirl inquiringly\n",
      "  One disa-two unconquered sudden angels tear\n",
      "  When men loud that the blue Service go both,\n",
      "  Enough to winter bore of balm,\n",
      "  That sleepeth crop and set him darkness,\n",
      "  And 'twould appear to trod; what let intent,--\n",
      "  Crumbled and bounds flood-mindred and for a dead,\n",
      "  Why, thou, och and not present, he flew, midwall the daily sigh,\n",
      "  Fearful, and quicken'd though ourselves accord\n",
      "  Thou worlds hold it as the lowly bed,\n",
      "  A downward high doing, my timid eyes in plum,\n",
      "  And when maiden yet would use your soul.\n",
      "  And he'd were near their god,' lest it could be so doubts.\n",
      "  Who must ye pierce before them to atk.\n",
      "                  XVI.\n",
      "  On their curf with ill; i red, and crack,\n",
      "  Not one who not her cause that shall then steal,\n",
      "  The old stove which incusts the surbroson,\n",
      "    Because who had no prayer with waters.\n",
      "  \"Be'er with his fleathries for its flinkers, his mother's places, a roar,\n",
      "  As the sky in Counted as death's counting knight\n",
      "  From hunger'd friendship, demon! he grew just beneath,\n",
      "  That yet had such a sea and scorn at every danger,\n",
      "  Ready rippling love and nature what is to know not by\n",
      "  Of vain the loving second, clad except a gleam:\n",
      "  But there was not the portmangic comparison flung.\n",
      "  Though they are at to-morrow when the brink\n",
      "  Of a mother tied on me? and \"Are_ you join.\n",
      "  Such floits in veins are cold, as would else fly\n",
      "  Nought stiff and like to him god brought the heaving\n",
      "  Behind a pock the impatience in the various skill-hands' throne one forth\n",
      "  Are found, and yet sorrowing everythed and down,\n",
      "  Old Mile and yellow thrust ditched with a curl'd breath:\n",
      "  Like the sick certain, whose cleaneescues were crop\n",
      "  Divine, and--while a fearful noble way\n",
      "  Are unknown dishoffy hath of servants, written,\n",
      "  Nor responcingly the fierce side may grow far and darkening,\n",
      "  No longer shame, to have they hope--as step it from the Press\n",
      "  In the seats, on we cannot shall go on.\n",
      "                   XXIV.\n",
      "When a loud arm, they fishel, all the preber\n",
      "  Your best hot will; and thus: \"If fold\n",
      "  Where johns white stood 'mid an altar stand.\n",
      "                   II.\n",
      "  Some lightest wind, one strife since drinky spell\n",
      "  That ties to road and robes wildly grate,\n",
      "  So spake the voice, as you you can reach which we were been,\n",
      "  When I can every rock, my peck me\n",
      "  Ditching not to the lyancies\n",
      "      Beaver. Good careful noise that ran gleam'd:\n",
      "    Where the tears ship he die and assember bent.\n",
      "      Sleep ungrew I make fear as a road\n",
      "      Once rock me think to quick, can sight.\n",
      "    She spake, \"Sad Petrary, worst do wept and lay.\n",
      "      With ignorance to strong beneath,\n",
      "      Still like a heavy, moderate bold\n",
      "      Shuffling to save me deep and friendshot,\n",
      "      I'd came, so you shall live in all to wear;\n",
      "    That ends his gaunt brow, and on the sand;\n",
      "    An one it was the heart in her eye,\n",
      "    Come in thy back,\n",
      "    Or trembled on the bottom down\n",
      "      And not in paying.)\n",
      "  Nor several time that must, and, more:\n",
      "      Though Sunshine happy roind\n",
      "    Besoot me his bray awful and on\n",
      "    From the wash\n",
      "    For a last chain, like a state,\n",
      "        Gray, as you enter with snow,\n",
      "      My family forget would hold, and not just the play\n",
      "        Will sail a windy tree\n",
      "    High: for the lesson paids, the lifts of Lyred eye,\n",
      "    There would not find it not though friend and true\n",
      "    With as perchance died up My God.\n",
      "  Lip,--her skin, when we under't that may mixster.\n",
      "    And no poor day and place\n",
      "        qon heart doth fall:\n",
      "    But I were forgiveness, I think not amive--\n",
      "          All are I to low him to rock to placed\n",
      "      Come which the poison rehit such a nature was been to and cave,\n",
      "      So vain to roughly load, many first summit\n",
      "    Which knoweth it for gone and small;\n",
      "    And there is right, the sea-book Grew\n",
      "      No question-beds fire away,\n",
      "      And thus with maybe and shall get, the mother wait;\n",
      "    The old voice-waters. till the heavens that cut out by the hilltic sings;\n",
      "        No sound of avenches splinking have shall sea\n",
      "      That give him leaves view--\n",
      "    A thoughts about the water still.\n",
      "    Were almost as he heeds my heart knew.\n",
      "    A best catching upward on my breast\n",
      "      With almost exation tier,)\n",
      "      My soul where master was to be deluged:\n",
      "    With undurless desireing life,\n",
      "    When, and we to them, the living wheels\n",
      "      The sweet mystery scealinging \"Take\n",
      "      Because \n"
     ]
    }
   ],
   "source": [
    "# sample show \n",
    "samp = sample(epoch, seed, leng)\n",
    "print(samp)"
   ]
  },
  {
   "cell_type": "code",
   "execution_count": null,
   "metadata": {},
   "outputs": [],
   "source": []
  }
 ],
 "metadata": {
  "kernelspec": {
   "display_name": "myproject",
   "language": "python",
   "name": "myproject"
  },
  "language_info": {
   "codemirror_mode": {
    "name": "ipython",
    "version": 3
   },
   "file_extension": ".py",
   "mimetype": "text/x-python",
   "name": "python",
   "nbconvert_exporter": "python",
   "pygments_lexer": "ipython3",
   "version": "3.6.5"
  }
 },
 "nbformat": 4,
 "nbformat_minor": 2
}
